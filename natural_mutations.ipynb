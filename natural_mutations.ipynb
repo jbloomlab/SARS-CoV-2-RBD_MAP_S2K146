{
 "cells": [
  {
   "cell_type": "markdown",
   "metadata": {},
   "source": [
    "# Analyze naturally occurring mutations at sites of strong escape\n",
    "This Python Jupyter notebook sees how many naturally occuring mutations are observed at each site of strong escape"
   ]
  },
  {
   "cell_type": "markdown",
   "metadata": {},
   "source": [
    "## Set up analysis\n",
    "Import Python modules:"
   ]
  },
  {
   "cell_type": "code",
   "execution_count": 1,
   "metadata": {
    "execution": {
     "iopub.execute_input": "2021-06-29T23:32:11.918137Z",
     "iopub.status.busy": "2021-06-29T23:32:11.917216Z",
     "iopub.status.idle": "2021-06-29T23:32:13.831804Z",
     "shell.execute_reply": "2021-06-29T23:32:13.830657Z"
    }
   },
   "outputs": [],
   "source": [
    "import collections\n",
    "import copy\n",
    "import math\n",
    "import os\n",
    "\n",
    "import dms_variants.utils\n",
    "\n",
    "from IPython.display import display, HTML\n",
    "\n",
    "import matplotlib.pyplot as plt\n",
    "\n",
    "import pandas as pd\n",
    "\n",
    "from plotnine import *\n",
    "\n",
    "import yaml"
   ]
  },
  {
   "cell_type": "markdown",
   "metadata": {},
   "source": [
    "Read the configuration file:"
   ]
  },
  {
   "cell_type": "code",
   "execution_count": 2,
   "metadata": {
    "execution": {
     "iopub.execute_input": "2021-06-29T23:32:13.836710Z",
     "iopub.status.busy": "2021-06-29T23:32:13.835827Z",
     "iopub.status.idle": "2021-06-29T23:32:13.857221Z",
     "shell.execute_reply": "2021-06-29T23:32:13.856322Z"
    }
   },
   "outputs": [],
   "source": [
    "with open('config.yaml') as f:\n",
    "    config = yaml.safe_load(f)"
   ]
  },
  {
   "cell_type": "markdown",
   "metadata": {},
   "source": [
    "Read escape profiles config, which tells which sets to make plots for:"
   ]
  },
  {
   "cell_type": "code",
   "execution_count": 3,
   "metadata": {
    "execution": {
     "iopub.execute_input": "2021-06-29T23:32:13.861783Z",
     "iopub.status.busy": "2021-06-29T23:32:13.860671Z",
     "iopub.status.idle": "2021-06-29T23:32:13.874571Z",
     "shell.execute_reply": "2021-06-29T23:32:13.873668Z"
    }
   },
   "outputs": [],
   "source": [
    "with open(config['escape_profiles_config']) as f:\n",
    "    escape_profiles_config = yaml.safe_load(f)"
   ]
  },
  {
   "cell_type": "markdown",
   "metadata": {},
   "source": [
    "Create output directory:"
   ]
  },
  {
   "cell_type": "code",
   "execution_count": 4,
   "metadata": {
    "execution": {
     "iopub.execute_input": "2021-06-29T23:32:13.878679Z",
     "iopub.status.busy": "2021-06-29T23:32:13.878076Z",
     "iopub.status.idle": "2021-06-29T23:32:13.881009Z",
     "shell.execute_reply": "2021-06-29T23:32:13.880394Z"
    }
   },
   "outputs": [],
   "source": [
    "os.makedirs(config['gisaid_mutations_dir'], exist_ok=True)"
   ]
  },
  {
   "cell_type": "markdown",
   "metadata": {},
   "source": [
    "Read counts of naturally ocurring mutations:"
   ]
  },
  {
   "cell_type": "code",
   "execution_count": 5,
   "metadata": {
    "execution": {
     "iopub.execute_input": "2021-06-29T23:32:13.885791Z",
     "iopub.status.busy": "2021-06-29T23:32:13.885191Z",
     "iopub.status.idle": "2021-06-29T23:32:13.898571Z",
     "shell.execute_reply": "2021-06-29T23:32:13.897685Z"
    }
   },
   "outputs": [
    {
     "name": "stdout",
     "output_type": "stream",
     "text": [
      "Reading mutation counts from results/GISAID_mutations/mutation_counts.csv\n"
     ]
    }
   ],
   "source": [
    "print(f\"Reading mutation counts from {config['gisaid_mutation_counts']}\")\n",
    "\n",
    "mut_counts = pd.read_csv(config['gisaid_mutation_counts'])"
   ]
  },
  {
   "cell_type": "markdown",
   "metadata": {},
   "source": [
    "Read sites of \"strong escape\" from all antibodies / sera:"
   ]
  },
  {
   "cell_type": "code",
   "execution_count": 6,
   "metadata": {
    "execution": {
     "iopub.execute_input": "2021-06-29T23:32:13.904047Z",
     "iopub.status.busy": "2021-06-29T23:32:13.903183Z",
     "iopub.status.idle": "2021-06-29T23:32:13.910938Z",
     "shell.execute_reply": "2021-06-29T23:32:13.910376Z"
    }
   },
   "outputs": [
    {
     "name": "stdout",
     "output_type": "stream",
     "text": [
      "Reading sites of strong escape from results/escape_profiles/strong_escape_sites.csv\n"
     ]
    }
   ],
   "source": [
    "print(f\"Reading sites of strong escape from {config['strong_escape_sites']}\")\n",
    "\n",
    "strong_sites = pd.read_csv(config['strong_escape_sites'])"
   ]
  },
  {
   "cell_type": "markdown",
   "metadata": {},
   "source": [
    "Read escape fractions for all antibodies / sera:"
   ]
  },
  {
   "cell_type": "code",
   "execution_count": 7,
   "metadata": {
    "execution": {
     "iopub.execute_input": "2021-06-29T23:32:13.916730Z",
     "iopub.status.busy": "2021-06-29T23:32:13.916174Z",
     "iopub.status.idle": "2021-06-29T23:32:14.159521Z",
     "shell.execute_reply": "2021-06-29T23:32:14.158505Z"
    }
   },
   "outputs": [
    {
     "name": "stdout",
     "output_type": "stream",
     "text": [
      "Reading escape fractions from results/escape_scores/escape_fracs.csv\n"
     ]
    },
    {
     "data": {
      "text/html": [
       "<div>\n",
       "<style scoped>\n",
       "    .dataframe tbody tr th:only-of-type {\n",
       "        vertical-align: middle;\n",
       "    }\n",
       "\n",
       "    .dataframe tbody tr th {\n",
       "        vertical-align: top;\n",
       "    }\n",
       "\n",
       "    .dataframe thead th {\n",
       "        text-align: right;\n",
       "    }\n",
       "</style>\n",
       "<table border=\"1\" class=\"dataframe\">\n",
       "  <thead>\n",
       "    <tr style=\"text-align: right;\">\n",
       "      <th></th>\n",
       "      <th>condition</th>\n",
       "      <th>site</th>\n",
       "      <th>wildtype</th>\n",
       "      <th>mutant</th>\n",
       "      <th>mut_escape_frac_epistasis_model</th>\n",
       "      <th>site_total_escape_frac_epistasis_model</th>\n",
       "    </tr>\n",
       "  </thead>\n",
       "  <tbody>\n",
       "    <tr>\n",
       "      <th>0</th>\n",
       "      <td>CB6_400</td>\n",
       "      <td>331</td>\n",
       "      <td>N</td>\n",
       "      <td>A</td>\n",
       "      <td>0.001044</td>\n",
       "      <td>0.03952</td>\n",
       "    </tr>\n",
       "    <tr>\n",
       "      <th>1</th>\n",
       "      <td>CB6_400</td>\n",
       "      <td>331</td>\n",
       "      <td>N</td>\n",
       "      <td>D</td>\n",
       "      <td>0.002087</td>\n",
       "      <td>0.03952</td>\n",
       "    </tr>\n",
       "    <tr>\n",
       "      <th>2</th>\n",
       "      <td>CB6_400</td>\n",
       "      <td>331</td>\n",
       "      <td>N</td>\n",
       "      <td>E</td>\n",
       "      <td>0.001044</td>\n",
       "      <td>0.03952</td>\n",
       "    </tr>\n",
       "    <tr>\n",
       "      <th>3</th>\n",
       "      <td>CB6_400</td>\n",
       "      <td>331</td>\n",
       "      <td>N</td>\n",
       "      <td>F</td>\n",
       "      <td>0.001044</td>\n",
       "      <td>0.03952</td>\n",
       "    </tr>\n",
       "    <tr>\n",
       "      <th>4</th>\n",
       "      <td>CB6_400</td>\n",
       "      <td>331</td>\n",
       "      <td>N</td>\n",
       "      <td>G</td>\n",
       "      <td>0.005013</td>\n",
       "      <td>0.03952</td>\n",
       "    </tr>\n",
       "    <tr>\n",
       "      <th>...</th>\n",
       "      <td>...</td>\n",
       "      <td>...</td>\n",
       "      <td>...</td>\n",
       "      <td>...</td>\n",
       "      <td>...</td>\n",
       "      <td>...</td>\n",
       "    </tr>\n",
       "    <tr>\n",
       "      <th>58442</th>\n",
       "      <td>S309_421</td>\n",
       "      <td>531</td>\n",
       "      <td>T</td>\n",
       "      <td>R</td>\n",
       "      <td>0.041250</td>\n",
       "      <td>0.77760</td>\n",
       "    </tr>\n",
       "    <tr>\n",
       "      <th>58443</th>\n",
       "      <td>S309_421</td>\n",
       "      <td>531</td>\n",
       "      <td>T</td>\n",
       "      <td>S</td>\n",
       "      <td>0.038590</td>\n",
       "      <td>0.77760</td>\n",
       "    </tr>\n",
       "    <tr>\n",
       "      <th>58444</th>\n",
       "      <td>S309_421</td>\n",
       "      <td>531</td>\n",
       "      <td>T</td>\n",
       "      <td>V</td>\n",
       "      <td>0.043800</td>\n",
       "      <td>0.77760</td>\n",
       "    </tr>\n",
       "    <tr>\n",
       "      <th>58445</th>\n",
       "      <td>S309_421</td>\n",
       "      <td>531</td>\n",
       "      <td>T</td>\n",
       "      <td>W</td>\n",
       "      <td>0.044880</td>\n",
       "      <td>0.77760</td>\n",
       "    </tr>\n",
       "    <tr>\n",
       "      <th>58446</th>\n",
       "      <td>S309_421</td>\n",
       "      <td>531</td>\n",
       "      <td>T</td>\n",
       "      <td>Y</td>\n",
       "      <td>0.037600</td>\n",
       "      <td>0.77760</td>\n",
       "    </tr>\n",
       "  </tbody>\n",
       "</table>\n",
       "<p>58447 rows × 6 columns</p>\n",
       "</div>"
      ],
      "text/plain": [
       "      condition  site wildtype mutant  mut_escape_frac_epistasis_model  \\\n",
       "0       CB6_400   331        N      A                         0.001044   \n",
       "1       CB6_400   331        N      D                         0.002087   \n",
       "2       CB6_400   331        N      E                         0.001044   \n",
       "3       CB6_400   331        N      F                         0.001044   \n",
       "4       CB6_400   331        N      G                         0.005013   \n",
       "...         ...   ...      ...    ...                              ...   \n",
       "58442  S309_421   531        T      R                         0.041250   \n",
       "58443  S309_421   531        T      S                         0.038590   \n",
       "58444  S309_421   531        T      V                         0.043800   \n",
       "58445  S309_421   531        T      W                         0.044880   \n",
       "58446  S309_421   531        T      Y                         0.037600   \n",
       "\n",
       "       site_total_escape_frac_epistasis_model  \n",
       "0                                     0.03952  \n",
       "1                                     0.03952  \n",
       "2                                     0.03952  \n",
       "3                                     0.03952  \n",
       "4                                     0.03952  \n",
       "...                                       ...  \n",
       "58442                                 0.77760  \n",
       "58443                                 0.77760  \n",
       "58444                                 0.77760  \n",
       "58445                                 0.77760  \n",
       "58446                                 0.77760  \n",
       "\n",
       "[58447 rows x 6 columns]"
      ]
     },
     "execution_count": 1,
     "metadata": {},
     "output_type": "execute_result"
    }
   ],
   "source": [
    "print(f\"Reading escape fractions from {config['escape_fracs']}\")\n",
    "\n",
    "escape_fracs = (\n",
    "    pd.read_csv(config['escape_fracs'])\n",
    "    .query('library == \"average\"')\n",
    "    .drop(columns='site')\n",
    "    .rename(columns={'mutation': 'mutant',\n",
    "                     'label_site': 'site'})\n",
    "    [['condition', 'site', 'wildtype', 'mutant', config['mut_metric'], config['site_metric']]]\n",
    "    )\n",
    "\n",
    "escape_fracs"
   ]
  },
  {
   "cell_type": "markdown",
   "metadata": {},
   "source": [
    "## Counts of mutations at sites of escape\n",
    "Get counts of naturally occurring mutations at sites of escape, along with the actual escape values:\n",
    "\n",
    "First get mutation-level counts:"
   ]
  },
  {
   "cell_type": "code",
   "execution_count": 8,
   "metadata": {
    "execution": {
     "iopub.execute_input": "2021-06-29T23:32:14.167035Z",
     "iopub.status.busy": "2021-06-29T23:32:14.166066Z",
     "iopub.status.idle": "2021-06-29T23:32:14.194492Z",
     "shell.execute_reply": "2021-06-29T23:32:14.193999Z"
    }
   },
   "outputs": [],
   "source": [
    "mutcounts_strong_sites = (\n",
    "    strong_sites[['condition', 'threshold', 'site']]\n",
    "    .merge(mut_counts, how='inner', on='site')\n",
    "    .merge(escape_fracs[['condition', 'site', 'wildtype', config['site_metric']]].drop_duplicates(),\n",
    "           on=['condition', 'site', 'wildtype'],\n",
    "           validate='many_to_one')\n",
    "    .assign(mutation=lambda x: x['wildtype'] + x['site'].astype(str) + x['mutant'])\n",
    "    .sort_values('count', ascending=False)\n",
    "    )"
   ]
  },
  {
   "cell_type": "markdown",
   "metadata": {},
   "source": [
    "Now get site-level counts (aggregating all mutations at a site):"
   ]
  },
  {
   "cell_type": "code",
   "execution_count": 9,
   "metadata": {
    "execution": {
     "iopub.execute_input": "2021-06-29T23:32:14.199272Z",
     "iopub.status.busy": "2021-06-29T23:32:14.198710Z",
     "iopub.status.idle": "2021-06-29T23:32:14.223756Z",
     "shell.execute_reply": "2021-06-29T23:32:14.222854Z"
    }
   },
   "outputs": [
    {
     "name": "stdout",
     "output_type": "stream",
     "text": [
      "Here are first few lines showing the most frequently mutated sites of escape:\n"
     ]
    },
    {
     "data": {
      "text/html": [
       "<table border=\"1\" class=\"dataframe\">\n",
       "  <thead>\n",
       "    <tr style=\"text-align: right;\">\n",
       "      <th>condition</th>\n",
       "      <th>threshold</th>\n",
       "      <th>site</th>\n",
       "      <th>wildtype</th>\n",
       "      <th>site_total_escape_frac_epistasis_model</th>\n",
       "      <th>count</th>\n",
       "      <th>counts_by_mutation</th>\n",
       "    </tr>\n",
       "  </thead>\n",
       "  <tbody>\n",
       "    <tr>\n",
       "      <td>S2H14_105</td>\n",
       "      <td>default</td>\n",
       "      <td>501</td>\n",
       "      <td>N</td>\n",
       "      <td>14.6600</td>\n",
       "      <td>465506</td>\n",
       "      <td>N501Y (462642), N501T (2810), N501S (30), N501I (18), N501H (4), N501C (1), N501F (1)</td>\n",
       "    </tr>\n",
       "    <tr>\n",
       "      <td>CB6_400</td>\n",
       "      <td>sensitive</td>\n",
       "      <td>501</td>\n",
       "      <td>N</td>\n",
       "      <td>1.4430</td>\n",
       "      <td>465506</td>\n",
       "      <td>N501Y (462642), N501T (2810), N501S (30), N501I (18), N501H (4), N501F (1), N501C (1)</td>\n",
       "    </tr>\n",
       "    <tr>\n",
       "      <td>COV2-2499_400</td>\n",
       "      <td>sensitive_max_mut</td>\n",
       "      <td>501</td>\n",
       "      <td>N</td>\n",
       "      <td>0.5019</td>\n",
       "      <td>465506</td>\n",
       "      <td>N501Y (462642), N501T (2810), N501S (30), N501I (18), N501H (4), N501C (1), N501F (1)</td>\n",
       "    </tr>\n",
       "    <tr>\n",
       "      <td>S2H14_105</td>\n",
       "      <td>sensitive_max_mut</td>\n",
       "      <td>501</td>\n",
       "      <td>N</td>\n",
       "      <td>14.6600</td>\n",
       "      <td>465506</td>\n",
       "      <td>N501Y (462642), N501T (2810), N501S (30), N501I (18), N501H (4), N501C (1), N501F (1)</td>\n",
       "    </tr>\n",
       "    <tr>\n",
       "      <td>CB6_400</td>\n",
       "      <td>sensitive_max_mut</td>\n",
       "      <td>501</td>\n",
       "      <td>N</td>\n",
       "      <td>1.4430</td>\n",
       "      <td>465506</td>\n",
       "      <td>N501Y (462642), N501T (2810), N501S (30), N501I (18), N501H (4), N501C (1), N501F (1)</td>\n",
       "    </tr>\n",
       "    <tr>\n",
       "      <td>S2H14_105</td>\n",
       "      <td>sensitive</td>\n",
       "      <td>501</td>\n",
       "      <td>N</td>\n",
       "      <td>14.6600</td>\n",
       "      <td>465506</td>\n",
       "      <td>N501Y (462642), N501T (2810), N501S (30), N501I (18), N501H (4), N501C (1), N501F (1)</td>\n",
       "    </tr>\n",
       "    <tr>\n",
       "      <td>COV2-2499_400</td>\n",
       "      <td>sensitive</td>\n",
       "      <td>501</td>\n",
       "      <td>N</td>\n",
       "      <td>0.5019</td>\n",
       "      <td>465506</td>\n",
       "      <td>N501Y (462642), N501T (2810), N501S (30), N501I (18), N501H (4), N501F (1), N501C (1)</td>\n",
       "    </tr>\n",
       "    <tr>\n",
       "      <td>S2E12_56</td>\n",
       "      <td>sensitive_max_mut</td>\n",
       "      <td>477</td>\n",
       "      <td>S</td>\n",
       "      <td>1.4840</td>\n",
       "      <td>45028</td>\n",
       "      <td>S477N (43577), S477R (905), S477I (442), S477G (89), S477T (13), S477V (1), S477A (1)</td>\n",
       "    </tr>\n",
       "    <tr>\n",
       "      <td>S2X58_18</td>\n",
       "      <td>sensitive_max_mut</td>\n",
       "      <td>452</td>\n",
       "      <td>L</td>\n",
       "      <td>5.3240</td>\n",
       "      <td>42047</td>\n",
       "      <td>L452R (41051), L452Q (735), L452M (255), L452V (3), L452P (2), L452F (1)</td>\n",
       "    </tr>\n",
       "    <tr>\n",
       "      <td>S2X58_18</td>\n",
       "      <td>sensitive</td>\n",
       "      <td>452</td>\n",
       "      <td>L</td>\n",
       "      <td>5.3240</td>\n",
       "      <td>42047</td>\n",
       "      <td>L452R (41051), L452Q (735), L452M (255), L452V (3), L452P (2), L452F (1)</td>\n",
       "    </tr>\n",
       "    <tr>\n",
       "      <td>LY-CoV555_400</td>\n",
       "      <td>default</td>\n",
       "      <td>452</td>\n",
       "      <td>L</td>\n",
       "      <td>4.0150</td>\n",
       "      <td>42047</td>\n",
       "      <td>L452R (41051), L452Q (735), L452M (255), L452V (3), L452P (2), L452F (1)</td>\n",
       "    </tr>\n",
       "    <tr>\n",
       "      <td>COV2-2096_400</td>\n",
       "      <td>sensitive_max_mut</td>\n",
       "      <td>452</td>\n",
       "      <td>L</td>\n",
       "      <td>2.2170</td>\n",
       "      <td>42047</td>\n",
       "      <td>L452R (41051), L452Q (735), L452M (255), L452V (3), L452P (2), L452F (1)</td>\n",
       "    </tr>\n",
       "    <tr>\n",
       "      <td>LY-CoV555_400</td>\n",
       "      <td>sensitive_max_mut</td>\n",
       "      <td>452</td>\n",
       "      <td>L</td>\n",
       "      <td>4.0150</td>\n",
       "      <td>42047</td>\n",
       "      <td>L452R (41051), L452Q (735), L452M (255), L452V (3), L452P (2), L452F (1)</td>\n",
       "    </tr>\n",
       "    <tr>\n",
       "      <td>LY-CoV555_400</td>\n",
       "      <td>sensitive</td>\n",
       "      <td>452</td>\n",
       "      <td>L</td>\n",
       "      <td>4.0150</td>\n",
       "      <td>42047</td>\n",
       "      <td>L452R (41051), L452Q (735), L452M (255), L452V (3), L452P (2), L452F (1)</td>\n",
       "    </tr>\n",
       "    <tr>\n",
       "      <td>COV2-2096_400</td>\n",
       "      <td>sensitive</td>\n",
       "      <td>452</td>\n",
       "      <td>L</td>\n",
       "      <td>2.2170</td>\n",
       "      <td>42047</td>\n",
       "      <td>L452R (41051), L452Q (735), L452M (255), L452V (3), L452P (2), L452F (1)</td>\n",
       "    </tr>\n",
       "    <tr>\n",
       "      <td>COV2-2096_400</td>\n",
       "      <td>default</td>\n",
       "      <td>452</td>\n",
       "      <td>L</td>\n",
       "      <td>2.2170</td>\n",
       "      <td>42047</td>\n",
       "      <td>L452R (41051), L452Q (735), L452M (255), L452V (3), L452P (2), L452F (1)</td>\n",
       "    </tr>\n",
       "    <tr>\n",
       "      <td>S2X58_18</td>\n",
       "      <td>default</td>\n",
       "      <td>452</td>\n",
       "      <td>L</td>\n",
       "      <td>5.3240</td>\n",
       "      <td>42047</td>\n",
       "      <td>L452R (41051), L452Q (735), L452M (255), L452V (3), L452P (2), L452F (1)</td>\n",
       "    </tr>\n",
       "    <tr>\n",
       "      <td>COV2-2050_400</td>\n",
       "      <td>default</td>\n",
       "      <td>484</td>\n",
       "      <td>E</td>\n",
       "      <td>3.9620</td>\n",
       "      <td>38960</td>\n",
       "      <td>E484K (37596), E484Q (1261), E484G (42), E484A (35), E484D (21), E484R (4), E484V (1)</td>\n",
       "    </tr>\n",
       "    <tr>\n",
       "      <td>COV2-2832_400</td>\n",
       "      <td>sensitive_max_mut</td>\n",
       "      <td>484</td>\n",
       "      <td>E</td>\n",
       "      <td>0.4752</td>\n",
       "      <td>38960</td>\n",
       "      <td>E484K (37596), E484Q (1261), E484G (42), E484A (35), E484D (21), E484R (4), E484V (1)</td>\n",
       "    </tr>\n",
       "    <tr>\n",
       "      <td>COV2-2479_400</td>\n",
       "      <td>default</td>\n",
       "      <td>484</td>\n",
       "      <td>E</td>\n",
       "      <td>0.7676</td>\n",
       "      <td>38960</td>\n",
       "      <td>E484K (37596), E484Q (1261), E484G (42), E484A (35), E484D (21), E484R (4), E484V (1)</td>\n",
       "    </tr>\n",
       "  </tbody>\n",
       "</table>"
      ],
      "text/plain": [
       "<IPython.core.display.HTML object>"
      ]
     },
     "metadata": {},
     "output_type": "display_data"
    }
   ],
   "source": [
    "sitecounts_strong_sites = (\n",
    "    mutcounts_strong_sites\n",
    "    .assign(mut_count=lambda x: x['mutation'] + ' (' + x['count'].astype(str) + ')')\n",
    "    .groupby(['condition', 'threshold', 'site', 'wildtype', config['site_metric']])\n",
    "    .aggregate({'count': 'sum', 'mut_count': ', '.join})\n",
    "    .rename(columns={'mut_count': 'counts_by_mutation'})\n",
    "    .reset_index()\n",
    "    .sort_values('count', ascending=False)\n",
    "    )\n",
    "\n",
    "print(f\"Here are first few lines showing the most frequently mutated sites of escape:\")\n",
    "display(HTML(sitecounts_strong_sites.head(n=20).to_html(index=False)))"
   ]
  },
  {
   "cell_type": "markdown",
   "metadata": {},
   "source": [
    "## Plot sites of escape with natural variation\n",
    "We perform analyses on all subsets in the escape profiles config for which this is specified:"
   ]
  },
  {
   "cell_type": "code",
   "execution_count": 10,
   "metadata": {
    "execution": {
     "iopub.execute_input": "2021-06-29T23:32:14.245154Z",
     "iopub.status.busy": "2021-06-29T23:32:14.244374Z",
     "iopub.status.idle": "2021-06-29T23:32:14.565023Z",
     "shell.execute_reply": "2021-06-29T23:32:14.565923Z"
    }
   },
   "outputs": [
    {
     "name": "stdout",
     "output_type": "stream",
     "text": [
      "\n",
      "Analyzing natural mutations for Vir_S2K146\n",
      "Writing counts of mutations at sites of strong escape to results/GISAID_mutations/Vir_S2K146_mutation_counts.csv. First few lines:\n"
     ]
    },
    {
     "data": {
      "text/html": [
       "<table border=\"1\" class=\"dataframe\">\n",
       "  <thead>\n",
       "    <tr style=\"text-align: right;\">\n",
       "      <th>condition</th>\n",
       "      <th>threshold</th>\n",
       "      <th>site</th>\n",
       "      <th>wildtype</th>\n",
       "      <th>count</th>\n",
       "      <th>counts_by_mutation</th>\n",
       "    </tr>\n",
       "  </thead>\n",
       "  <tbody>\n",
       "    <tr>\n",
       "      <td>S2K146</td>\n",
       "      <td>sensitive_max_mut</td>\n",
       "      <td>484</td>\n",
       "      <td>E</td>\n",
       "      <td>38960</td>\n",
       "      <td>E484K (37596), E484Q (1261), E484G (42), E484A (35), E484D (21), E484R (4), E484V (1)</td>\n",
       "    </tr>\n",
       "    <tr>\n",
       "      <td>S2K146</td>\n",
       "      <td>sensitive_max_mut</td>\n",
       "      <td>475</td>\n",
       "      <td>A</td>\n",
       "      <td>396</td>\n",
       "      <td>A475V (277), A475S (93), A475T (23), A475D (2), A475P (1)</td>\n",
       "    </tr>\n",
       "    <tr>\n",
       "      <td>S2K146</td>\n",
       "      <td>sensitive_max_mut</td>\n",
       "      <td>486</td>\n",
       "      <td>F</td>\n",
       "      <td>53</td>\n",
       "      <td>F486L (46), F486S (6), F486I (1)</td>\n",
       "    </tr>\n",
       "    <tr>\n",
       "      <td>S2K146</td>\n",
       "      <td>sensitive_max_mut</td>\n",
       "      <td>456</td>\n",
       "      <td>F</td>\n",
       "      <td>21</td>\n",
       "      <td>F456L (17), F456Y (2), F456V (1), F456I (1)</td>\n",
       "    </tr>\n",
       "    <tr>\n",
       "      <td>S2K146</td>\n",
       "      <td>sensitive_max_mut</td>\n",
       "      <td>489</td>\n",
       "      <td>Y</td>\n",
       "      <td>21</td>\n",
       "      <td>Y489H (16), Y489C (2), Y489F (1), Y489N (1), Y489S (1)</td>\n",
       "    </tr>\n",
       "    <tr>\n",
       "      <td>S2K146</td>\n",
       "      <td>sensitive_max_mut</td>\n",
       "      <td>487</td>\n",
       "      <td>N</td>\n",
       "      <td>9</td>\n",
       "      <td>N487D (2), N487K (2), N487T (2), N487S (1), N487H (1), N487I (1)</td>\n",
       "    </tr>\n",
       "  </tbody>\n",
       "</table>"
      ],
      "text/plain": [
       "<IPython.core.display.HTML object>"
      ]
     },
     "metadata": {},
     "output_type": "display_data"
    },
    {
     "name": "stdout",
     "output_type": "stream",
     "text": [
      "Plotting which antibodies / sera are escaped by mutations at all sites of escape with at least 5 mutation counts and saving to results/GISAID_mutations/Vir_S2K146_mutation_counts.pdf.\n"
     ]
    },
    {
     "data": {
      "image/png": "[encoded data removed]",
      "text/plain": [
       "<Figure size 30x180 with 1 Axes>"
      ]
     },
     "metadata": {},
     "output_type": "display_data"
    }
   ],
   "source": [
    "for name, specs in escape_profiles_config.items():\n",
    "    if 'analyze_natural_mutations' not in specs or not specs['analyze_natural_mutations']:\n",
    "        continue\n",
    "    print(f\"\\nAnalyzing natural mutations for {name}\")\n",
    "    \n",
    "    conditions = specs['conditions']\n",
    "    \n",
    "    threshold = specs['plot_auto_identified_sites']\n",
    "    if threshold not in sitecounts_strong_sites['threshold'].unique():\n",
    "        raise ValueError(f\"invalid threshold {threshold} for {name}\")\n",
    "    \n",
    "    # get count for conditions of interest for this subset\n",
    "    df = (sitecounts_strong_sites\n",
    "          .query('condition in @conditions')\n",
    "          .query('threshold == @threshold')\n",
    "          .assign(condition=lambda x: x['condition'].map(conditions))\n",
    "          .drop(columns=config['site_metric'])\n",
    "          )\n",
    "    countsfile = os.path.join(config['gisaid_mutations_dir'], f\"{name}_mutation_counts.csv\")\n",
    "    print(f\"Writing counts of mutations at sites of strong escape to {countsfile}. First few lines:\")\n",
    "    display(HTML(df.head(n=10).to_html(index=False)))\n",
    "    df.to_csv(countsfile, index=False)\n",
    "    \n",
    "    # make plot showing escape sites with more than mincounts mutations\n",
    "    if 'natural_mutations_mincounts' in specs:\n",
    "        mincounts = specs['natural_mutations_mincounts']\n",
    "    else:\n",
    "        mincounts = 5\n",
    "    plotsfile = os.path.join(config['gisaid_mutations_dir'], f\"{name}_mutation_counts.pdf\")\n",
    "    print('Plotting which antibodies / sera are escaped by mutations at all sites of '\n",
    "          f\"escape with at least {mincounts} mutation counts and saving to {plotsfile}.\")\n",
    "    plot_df = (\n",
    "        # data frame with all combinations of conditions and sites\n",
    "        pd.DataFrame.from_records([(condition, site) for condition in conditions.values()\n",
    "                                   for site in df['site'].unique()],\n",
    "                                  columns=['condition', 'site'])\n",
    "        # annotate sites of escape\n",
    "        .merge(df.assign(escape=lambda x: x['count'] >= mincounts)[['condition', 'site', 'escape']],\n",
    "               how='left',\n",
    "               validate='one_to_one',\n",
    "               on=['condition', 'site'])\n",
    "        .assign(escape=lambda x: x['escape'].fillna(False))\n",
    "        # add wildtype and counts of mutations at each site\n",
    "        .merge(sitecounts_strong_sites[['site', 'wildtype', 'count']].drop_duplicates(),\n",
    "               how='left',\n",
    "               validate='many_to_one',\n",
    "               on='site')\n",
    "        # get only sites with sufficient mutation counts\n",
    "        .query('count > @mincounts')\n",
    "        # only get sites where at least one antibody escapes\n",
    "        .assign(n_escape=lambda x: x.groupby('site')['escape'].transform('sum'))\n",
    "        .query('n_escape > 0')\n",
    "        # order conditions, and order sites by count after making nice label\n",
    "        .assign(site_label=lambda x: x['wildtype'] + x['site'].astype(str) + ' (' + x['count'].astype(str) + ')')\n",
    "        .sort_values('count')\n",
    "        .assign(condition=lambda x: pd.Categorical(x['condition'], list(conditions.values()), ordered=True),\n",
    "                site_label=lambda x: pd.Categorical(x['site_label'], x['site_label'].unique(), ordered=True)\n",
    "                )\n",
    "        )\n",
    "    p = (ggplot(plot_df) +\n",
    "         aes('condition', 'site_label', fill='escape') +\n",
    "         geom_tile(color='black', size=0.3) +\n",
    "         theme(axis_text_x=element_text(angle=90),\n",
    "               figure_size=(0.3 * plot_df['condition'].nunique(), 0.3 * plot_df['site_label'].nunique()),\n",
    "               panel_background=element_blank(),\n",
    "               ) +\n",
    "         xlab('') +\n",
    "         ylab('') +\n",
    "         scale_fill_manual(values=['white', 'dimgray'])\n",
    "         )\n",
    "    p.save(plotsfile, verbose=False)\n",
    "    fig = p.draw()\n",
    "    display(fig)\n",
    "    plt.close(fig)"
   ]
  },
  {
   "cell_type": "markdown",
   "metadata": {},
   "source": [
    "## Plot correlation between escape and natural frequency\n",
    "First aggregate frequency of mutations and escape fractions:"
   ]
  },
  {
   "cell_type": "code",
   "execution_count": 11,
   "metadata": {
    "execution": {
     "iopub.execute_input": "2021-06-29T23:32:14.573524Z",
     "iopub.status.busy": "2021-06-29T23:32:14.572642Z",
     "iopub.status.idle": "2021-06-29T23:32:14.650769Z",
     "shell.execute_reply": "2021-06-29T23:32:14.651478Z"
    }
   },
   "outputs": [
    {
     "data": {
      "text/html": [
       "<table border=\"1\" class=\"dataframe\">\n",
       "  <thead>\n",
       "    <tr style=\"text-align: right;\">\n",
       "      <th></th>\n",
       "      <th>condition</th>\n",
       "      <th>site</th>\n",
       "      <th>wildtype</th>\n",
       "      <th>mutant</th>\n",
       "      <th>mut_escape</th>\n",
       "      <th>tot_site_escape</th>\n",
       "      <th>max_site_escape</th>\n",
       "      <th>mean_site_escape</th>\n",
       "      <th>mut_freq</th>\n",
       "      <th>site_freq</th>\n",
       "      <th>mutation</th>\n",
       "    </tr>\n",
       "  </thead>\n",
       "  <tbody>\n",
       "    <tr>\n",
       "      <th>0</th>\n",
       "      <td>CB6_400</td>\n",
       "      <td>331</td>\n",
       "      <td>N</td>\n",
       "      <td>A</td>\n",
       "      <td>0.001044</td>\n",
       "      <td>0.03952</td>\n",
       "      <td>0.01347</td>\n",
       "      <td>0.00247</td>\n",
       "      <td>0.000000e+00</td>\n",
       "      <td>0.000034</td>\n",
       "      <td>N331A</td>\n",
       "    </tr>\n",
       "    <tr>\n",
       "      <th>1</th>\n",
       "      <td>CB6_400</td>\n",
       "      <td>331</td>\n",
       "      <td>N</td>\n",
       "      <td>D</td>\n",
       "      <td>0.002087</td>\n",
       "      <td>0.03952</td>\n",
       "      <td>0.01347</td>\n",
       "      <td>0.00247</td>\n",
       "      <td>8.401660e-07</td>\n",
       "      <td>0.000034</td>\n",
       "      <td>N331D</td>\n",
       "    </tr>\n",
       "    <tr>\n",
       "      <th>2</th>\n",
       "      <td>CB6_400</td>\n",
       "      <td>331</td>\n",
       "      <td>N</td>\n",
       "      <td>E</td>\n",
       "      <td>0.001044</td>\n",
       "      <td>0.03952</td>\n",
       "      <td>0.01347</td>\n",
       "      <td>0.00247</td>\n",
       "      <td>0.000000e+00</td>\n",
       "      <td>0.000034</td>\n",
       "      <td>N331E</td>\n",
       "    </tr>\n",
       "    <tr>\n",
       "      <th>3</th>\n",
       "      <td>CB6_400</td>\n",
       "      <td>331</td>\n",
       "      <td>N</td>\n",
       "      <td>F</td>\n",
       "      <td>0.001044</td>\n",
       "      <td>0.03952</td>\n",
       "      <td>0.01347</td>\n",
       "      <td>0.00247</td>\n",
       "      <td>0.000000e+00</td>\n",
       "      <td>0.000034</td>\n",
       "      <td>N331F</td>\n",
       "    </tr>\n",
       "    <tr>\n",
       "      <th>4</th>\n",
       "      <td>CB6_400</td>\n",
       "      <td>331</td>\n",
       "      <td>N</td>\n",
       "      <td>G</td>\n",
       "      <td>0.005013</td>\n",
       "      <td>0.03952</td>\n",
       "      <td>0.01347</td>\n",
       "      <td>0.00247</td>\n",
       "      <td>0.000000e+00</td>\n",
       "      <td>0.000034</td>\n",
       "      <td>N331G</td>\n",
       "    </tr>\n",
       "  </tbody>\n",
       "</table>"
      ],
      "text/plain": [
       "<IPython.core.display.HTML object>"
      ]
     },
     "metadata": {},
     "output_type": "display_data"
    }
   ],
   "source": [
    "escape_and_freq = (\n",
    "    escape_fracs\n",
    "    .rename(columns={config['mut_metric']: 'mut_escape',\n",
    "                     config['site_metric']: 'tot_site_escape'})\n",
    "    .assign(max_site_escape=lambda x: x.groupby(['condition', 'site'])['mut_escape'].transform('max'),\n",
    "            mean_site_escape=lambda x: x.groupby(['condition', 'site'])['mut_escape'].transform('mean'))\n",
    "    .merge(mut_counts[['site', 'wildtype', 'mutant', 'frequency']]\n",
    "                     .rename(columns={'frequency': 'mut_freq'}),\n",
    "           on=['site', 'wildtype', 'mutant'],\n",
    "           how='left', validate='many_to_one')\n",
    "    .assign(mut_freq=lambda x: x['mut_freq'].fillna(0),\n",
    "            site_freq=lambda x: x.groupby(['condition', 'site'])['mut_freq'].transform('sum'),\n",
    "            mutation=lambda x: x['wildtype'] + x['site'].astype(str) + x['mutant'],\n",
    "            )\n",
    "    )\n",
    "\n",
    "display(HTML(escape_and_freq.head().to_html()))"
   ]
  },
  {
   "cell_type": "markdown",
   "metadata": {
    "execution": {
     "iopub.execute_input": "2020-12-22T19:24:30.835783Z",
     "iopub.status.busy": "2020-12-22T19:24:30.835247Z",
     "iopub.status.idle": "2020-12-22T19:24:30.855228Z",
     "shell.execute_reply": "2020-12-22T19:24:30.854612Z",
     "shell.execute_reply.started": "2020-12-22T19:24:30.835735Z"
    }
   },
   "source": [
    "Now make plots.\n",
    "Note that you can configure below exactly what variables you want to plot (mutation frequency, mutation escape, site escape, etc):"
   ]
  },
  {
   "cell_type": "code",
   "execution_count": 12,
   "metadata": {
    "execution": {
     "iopub.execute_input": "2021-06-29T23:32:14.672062Z",
     "iopub.status.busy": "2021-06-29T23:32:14.660877Z",
     "iopub.status.idle": "2021-06-29T23:32:17.211274Z",
     "shell.execute_reply": "2021-06-29T23:32:17.212211Z"
    }
   },
   "outputs": [
    {
     "name": "stdout",
     "output_type": "stream",
     "text": [
      "\n",
      "Analyzing natural mutations for Vir_S2K146\n",
      "Plotting each condition and saving to results/GISAID_mutations/Vir_S2K146_escape_vs_freq_by-condition.pdf\n"
     ]
    },
    {
     "data": {
      "image/png": "[encoded data removed]",
      "text/plain": [
       "<Figure size 250x250 with 1 Axes>"
      ]
     },
     "metadata": {},
     "output_type": "display_data"
    },
    {
     "name": "stdout",
     "output_type": "stream",
     "text": [
      "Plotting average across conditions and saving to results/GISAID_mutations/Vir_S2K146_escape_vs_freq_average.pdf\n"
     ]
    },
    {
     "data": {
      "image/png": "[encoded data removed]",
      "text/plain": [
       "<Figure size 250x250 with 1 Axes>"
      ]
     },
     "metadata": {},
     "output_type": "display_data"
    },
    {
     "data": {
      "image/png": "[encoded data removed]",
      "text/plain": [
       "<Figure size 250x250 with 1 Axes>"
      ]
     },
     "metadata": {},
     "output_type": "display_data"
    },
    {
     "data": {
      "image/png": "[encoded data removed]",
      "text/plain": [
       "<Figure size 250x250 with 1 Axes>"
      ]
     },
     "metadata": {},
     "output_type": "display_data"
    }
   ],
   "source": [
    "# all the parameters below have the indicated defaults, but can be set in `escape_profiles_config`\n",
    "# via analyze_natural_mutations_specs\n",
    "default_analysis_specs = {\n",
    "    'maxcol': 5,  # maximum columns in plot\n",
    "    'minfreq': 1e-5,  # collapse any natural frequencies < this\n",
    "    'freq': 'site_freq',  # type of frequency to plot: mut_freq or site_freq\n",
    "    'escape': 'mean_site_escape',  # type of escape to plot: mean_site_escape, mut_escape, max_site_escape, tot_site_escape\n",
    "    'xlabel': 'frequency of mutations at site',\n",
    "    'ylabel': 'mean escape at site',\n",
    "    'label_minfreq': 5e-5,  # label points with frequency >= this and...\n",
    "    'label_minescape': 0.1,  # label points with escape >= this\n",
    "    'also_label': [],  # also label any points (sites or mutations) listed here\n",
    "    'label_font_size': 6,  # font size for labeling points\n",
    "    'default_color': 'black',  # color for points not otherwise specified\n",
    "    'default_alpha': 0.5,  # default alpha if not specified\n",
    "    'set_point_color': {},  # set color; key by site / mutation, value is color\n",
    "    'set_point_alpha': {},  # set alpha; key by site / mutations, value is alpha\n",
    "    }\n",
    "label_minfreq = 5e-5  # label points with frequency >= this\n",
    "label_minescape = 0.05  # label points with escape >= this\n",
    "\n",
    "for name, specs in escape_profiles_config.items():\n",
    "    if 'analyze_natural_mutations' not in specs or not specs['analyze_natural_mutations']:\n",
    "        continue\n",
    "    print(f\"\\nAnalyzing natural mutations for {name}\")\n",
    "    \n",
    "    analysis_specs = copy.deepcopy(default_analysis_specs)\n",
    "    if 'analyze_natural_mutations_specs' in specs:\n",
    "        for key, val in specs['analyze_natural_mutations_specs'].items():\n",
    "            analysis_specs[key] = val\n",
    "    \n",
    "    conditions = specs['conditions']\n",
    "    \n",
    "    if 'site' in analysis_specs['freq'] and 'site' in analysis_specs['escape']:\n",
    "        ptlabel = 'site'\n",
    "    else:\n",
    "        ptlabel = 'mutation'\n",
    "    \n",
    "    df = (escape_and_freq\n",
    "          .query('condition in @conditions')\n",
    "          .assign(condition=lambda x: x['condition'].map(conditions))\n",
    "          .assign(**{analysis_specs['freq']: lambda x: x[analysis_specs['freq']].clip(lower=analysis_specs['minfreq'])})\n",
    "          [['condition', analysis_specs['escape'], analysis_specs['freq'], ptlabel]]\n",
    "          .drop_duplicates()\n",
    "          )\n",
    "\n",
    "    assert len(conditions) == df['condition'].nunique()\n",
    "    \n",
    "    for avg_conditions in (False, True):\n",
    "        \n",
    "        if avg_conditions:\n",
    "            plot_df = df.groupby(ptlabel, as_index=False).aggregate({analysis_specs['freq']: 'mean',\n",
    "                                                                     analysis_specs['escape']: 'mean'})\n",
    "            nrow = ncol = 1\n",
    "            plotfile = os.path.join(config['gisaid_mutations_dir'],\n",
    "                                    f\"{name}_escape_vs_freq_average.pdf\")\n",
    "            print(f\"Plotting average across conditions and saving to {plotfile}\")\n",
    "        else:\n",
    "            nrow = math.ceil(len(conditions) / analysis_specs['maxcol'])\n",
    "            ncol = min(len(conditions), analysis_specs['maxcol'])\n",
    "            plot_df = df.copy()\n",
    "            # make condition categorical to maintain order \n",
    "            plot_df=plot_df.assign(condition=lambda x: pd.Categorical(x['condition'], \n",
    "                                                                      list(conditions.values()), \n",
    "                                                                      ordered=True)\n",
    "                                  )\n",
    "            plotfile = os.path.join(config['gisaid_mutations_dir'],\n",
    "                                    f\"{name}_escape_vs_freq_by-condition.pdf\")\n",
    "            print(f\"Plotting each condition and saving to {plotfile}\")\n",
    "         \n",
    "        # color points and set alpha\n",
    "        set_point_color = collections.defaultdict(lambda: analysis_specs['default_color'])\n",
    "        set_point_alpha = collections.defaultdict(lambda: analysis_specs['default_alpha'])\n",
    "        for point, color in analysis_specs['set_point_color'].items():\n",
    "            set_point_color[point] = color\n",
    "        for point, alpha in analysis_specs['set_point_alpha'].items():\n",
    "            set_point_alpha[point] = alpha\n",
    "        plot_df['color'] = plot_df[ptlabel].map(set_point_color)\n",
    "        plot_df['alpha'] = plot_df[ptlabel].map(set_point_alpha)\n",
    "        # need to make color categorical to assign as aesthetic\n",
    "        colors = plot_df['color'].unique()\n",
    "        plot_df['color'] = pd.Categorical(plot_df['color'], colors, ordered=True)\n",
    "            \n",
    "        label_df = (plot_df\n",
    "                    .assign(label=lambda x: x[ptlabel].isin(analysis_specs['also_label']))\n",
    "                    .query(f\"label or ({analysis_specs['freq']} >= {analysis_specs['label_minfreq']})\")\n",
    "                    .query(f\"label or ({analysis_specs['escape']} >= {analysis_specs['label_minescape']})\")\n",
    "                    )\n",
    "        \n",
    "        maxfreq = plot_df[analysis_specs['freq']].max()\n",
    "        assert analysis_specs['minfreq'] == 10**(int(math.log10(analysis_specs['minfreq'])))\n",
    "        logxbreaks = list(range(int(math.log10(analysis_specs['minfreq'])), round(math.log10(maxfreq)) + 1, 1))\n",
    "        xbreaks = [10**logx for logx in logxbreaks]\n",
    "        xlabels = [f\"$10^{{{logx}}}$\" for logx in logxbreaks]\n",
    "        xlabels[0] = f\"$<{xlabels[0][1:]}\"\n",
    "        \n",
    "        p = (ggplot(plot_df) +\n",
    "             aes(analysis_specs['freq'], analysis_specs['escape'], color='color', alpha='alpha') +\n",
    "             geom_point() +\n",
    "             geom_text(data=label_df,\n",
    "                       mapping=aes(label=ptlabel),\n",
    "                       size=analysis_specs['label_font_size'],\n",
    "                       adjust_text={'expand_points': (1.05, 1.2),\n",
    "                                    'expand_text': (1.05, 1.2)},\n",
    "                       ) +\n",
    "             theme_classic() +\n",
    "             theme(figure_size=(2.5 * ncol, 2.5 * nrow),\n",
    "                   panel_spacing=0.3,\n",
    "                   legend_position='none',\n",
    "                   ) +\n",
    "             scale_x_log10(name=analysis_specs['xlabel'],\n",
    "                           breaks=xbreaks,\n",
    "                           labels=xlabels,\n",
    "                           expand=(0.07, 0)) +\n",
    "             ylab(analysis_specs['ylabel']) +\n",
    "             scale_color_manual(values=colors) +\n",
    "             scale_alpha_continuous(limits=(0, 1), range=(0, 1))\n",
    "             )\n",
    "        if not avg_conditions:\n",
    "            p = p + facet_wrap('~ condition', ncol=ncol)\n",
    "        p.save(plotfile, verbose=False)\n",
    "        fig = p.draw()\n",
    "        display(fig)\n",
    "       # plt.close(fig)"
   ]
  },
  {
   "cell_type": "code",
   "execution_count": null,
   "metadata": {},
   "outputs": [],
   "source": []
  }
 ],
 "metadata": {
  "language_info": {
   "codemirror_mode": {
    "name": "ipython",
    "version": 3
   },
   "file_extension": ".py",
   "mimetype": "text/x-python",
   "name": "python",
   "nbconvert_exporter": "python",
   "pygments_lexer": "ipython3",
   "version": "3.7.8"
  }
 },
 "nbformat": 4,
 "nbformat_minor": 4
}
